{
  "nbformat": 4,
  "nbformat_minor": 0,
  "metadata": {
    "colab": {
      "provenance": [],
      "authorship_tag": "ABX9TyN0hyQKu1KGdTQxXLF/nqRp",
      "include_colab_link": true
    },
    "kernelspec": {
      "name": "python3",
      "display_name": "Python 3"
    },
    "language_info": {
      "name": "python"
    }
  },
  "cells": [
    {
      "cell_type": "markdown",
      "metadata": {
        "id": "view-in-github",
        "colab_type": "text"
      },
      "source": [
        "<a href=\"https://colab.research.google.com/github/Vladocx/SPBSTU/blob/main/Vladocx15_3.ipynb\" target=\"_parent\"><img src=\"https://colab.research.google.com/assets/colab-badge.svg\" alt=\"Open In Colab\"/></a>"
      ]
    },
    {
      "cell_type": "code",
      "execution_count": 1,
      "metadata": {
        "colab": {
          "base_uri": "https://localhost:8080/"
        },
        "id": "gNapVxcyGe44",
        "outputId": "148cec8a-534a-4382-8b13-ce57103a6961",
        "collapsed": true
      },
      "outputs": [
        {
          "output_type": "stream",
          "name": "stdout",
          "text": [
            "Collecting pytelegrambotapi\n",
            "  Downloading pytelegrambotapi-4.26.0-py3-none-any.whl.metadata (48 kB)\n",
            "\u001b[?25l     \u001b[90m━━━━━━━━━━━━━━━━━━━━━━━━━━━━━━━━━━━━━━━━\u001b[0m \u001b[32m0.0/48.1 kB\u001b[0m \u001b[31m?\u001b[0m eta \u001b[36m-:--:--\u001b[0m\r\u001b[2K     \u001b[90m━━━━━━━━━━━━━━━━━━━━━━━━━━━━━━━━━━━━━━━━\u001b[0m \u001b[32m48.1/48.1 kB\u001b[0m \u001b[31m1.8 MB/s\u001b[0m eta \u001b[36m0:00:00\u001b[0m\n",
            "\u001b[?25hRequirement already satisfied: requests in /usr/local/lib/python3.11/dist-packages (from pytelegrambotapi) (2.32.3)\n",
            "Requirement already satisfied: charset-normalizer<4,>=2 in /usr/local/lib/python3.11/dist-packages (from requests->pytelegrambotapi) (3.4.1)\n",
            "Requirement already satisfied: idna<4,>=2.5 in /usr/local/lib/python3.11/dist-packages (from requests->pytelegrambotapi) (3.10)\n",
            "Requirement already satisfied: urllib3<3,>=1.21.1 in /usr/local/lib/python3.11/dist-packages (from requests->pytelegrambotapi) (2.3.0)\n",
            "Requirement already satisfied: certifi>=2017.4.17 in /usr/local/lib/python3.11/dist-packages (from requests->pytelegrambotapi) (2025.1.31)\n",
            "Downloading pytelegrambotapi-4.26.0-py3-none-any.whl (270 kB)\n",
            "\u001b[2K   \u001b[90m━━━━━━━━━━━━━━━━━━━━━━━━━━━━━━━━━━━━━━━━\u001b[0m \u001b[32m270.5/270.5 kB\u001b[0m \u001b[31m4.7 MB/s\u001b[0m eta \u001b[36m0:00:00\u001b[0m\n",
            "\u001b[?25hInstalling collected packages: pytelegrambotapi\n",
            "Successfully installed pytelegrambotapi-4.26.0\n"
          ]
        }
      ],
      "source": [
        "!pip install pytelegrambotapi\n",
        "\n"
      ]
    },
    {
      "cell_type": "code",
      "source": [
        "import telebot\n",
        "import requests\n",
        "from telebot import types\n",
        "\n",
        "with open('token.txt') as f:\n",
        "    token = f.read()\n",
        "\n",
        "bot = telebot.TeleBot(token)\n",
        "\n",
        "@bot.message_handler(commands=[\"start\"])\n",
        "def send_welcome(message):\n",
        "    bot.send_message(message.chat.id, 'Привет! Я могу рассказать тебе погоду в Москве, Санкт-Петербурге, Казани, Владивостоке и Барнауле')\n",
        "    markup = types.ReplyKeyboardMarkup(resize_keyboard=True)\n",
        "    bt1 = types.KeyboardButton('Moscow')\n",
        "    bt2 = types.KeyboardButton('Saint Petersburg')\n",
        "    bt3 = types.KeyboardButton('Kazan')\n",
        "    bt4 = types.KeyboardButton('Vladivostok')\n",
        "    bt5 = types.KeyboardButton('Barnaul')\n",
        "\n",
        "    markup.add(bt1, bt2)\n",
        "    markup.add(bt3, bt4, bt5)\n",
        "\n",
        "    bot.send_message(message.chat.id, 'Выбери город:', reply_markup=markup)\n",
        "\n",
        "\n",
        "@bot.message_handler(content_types = ['text'])\n",
        "def get_weather(message):\n",
        "    city = message.text\n",
        "    url = f'http://api.openweathermap.org/data/2.5/weather?q={city},ru&appid=60b9d7b9c1cb7f02b476141589d14a9c&units=metric'\n",
        "    response = requests.get(url)\n",
        "\n",
        "    if response.status_code == 200:\n",
        "        data = response.json()\n",
        "        temperature = data['main']['temp']\n",
        "        description = data['weather'][0]['description']\n",
        "        bot.reply_to(message, f'Погода в {city}: {temperature} градусов, {description}')\n",
        "    else:\n",
        "        bot.reply_to(message, 'Произошла ошибка при получении данных о погоде')\n",
        "\n",
        "bot.infinity_polling()"
      ],
      "metadata": {
        "collapsed": true,
        "colab": {
          "base_uri": "https://localhost:8080/"
        },
        "id": "FLSsBrxVeKL7",
        "outputId": "14caa6b4-cd17-4bc7-f0ae-c355b432a4f3"
      },
      "execution_count": 30,
      "outputs": [
        {
          "output_type": "stream",
          "name": "stderr",
          "text": [
            "2025-04-09 17:54:36,321 (__init__.py:1121 MainThread) ERROR - TeleBot: \"Infinity polling: polling exited\"\n",
            "ERROR:TeleBot:Infinity polling: polling exited\n",
            "2025-04-09 17:54:36,323 (__init__.py:1123 MainThread) ERROR - TeleBot: \"Break infinity polling\"\n",
            "ERROR:TeleBot:Break infinity polling\n"
          ]
        }
      ]
    }
  ]
}