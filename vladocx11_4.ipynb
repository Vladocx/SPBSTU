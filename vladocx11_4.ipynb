{
  "nbformat": 4,
  "nbformat_minor": 0,
  "metadata": {
    "colab": {
      "provenance": [],
      "authorship_tag": "ABX9TyOykGRwvDUA74jK/A0/U/7R",
      "include_colab_link": true
    },
    "kernelspec": {
      "name": "python3",
      "display_name": "Python 3"
    },
    "language_info": {
      "name": "python"
    }
  },
  "cells": [
    {
      "cell_type": "markdown",
      "metadata": {
        "id": "view-in-github",
        "colab_type": "text"
      },
      "source": [
        "<a href=\"https://colab.research.google.com/github/Vladocx/SPBSTU/blob/main/vladocx11_4.ipynb\" target=\"_parent\"><img src=\"https://colab.research.google.com/assets/colab-badge.svg\" alt=\"Open In Colab\"/></a>"
      ]
    },
    {
      "cell_type": "code",
      "execution_count": null,
      "metadata": {
        "colab": {
          "base_uri": "https://localhost:8080/"
        },
        "id": "gNapVxcyGe44",
        "outputId": "9f0cc0bc-25dc-4b4d-f46d-7e9ea128ba06"
      },
      "outputs": [
        {
          "output_type": "stream",
          "name": "stdout",
          "text": [
            "RMSE Модели равно 45817.4859187653\n",
            "RMSE 'Глупой' Модели равно 61673.46540853506\n",
            "Разница равна 15855.979489769765\n"
          ]
        },
        {
          "output_type": "stream",
          "name": "stderr",
          "text": [
            "<ipython-input-26-73a8ebcd5d32>:11: FutureWarning: A value is trying to be set on a copy of a DataFrame or Series through chained assignment using an inplace method.\n",
            "The behavior will change in pandas 3.0. This inplace method will never work because the intermediate object on which we are setting values always behaves as a copy.\n",
            "\n",
            "For example, when doing 'df[col].method(value, inplace=True)', try using 'df.method({col: value}, inplace=True)' or df[col] = df[col].method(value) instead, to perform the operation inplace on the original object.\n",
            "\n",
            "\n",
            "  data[\"Engine HP\"].fillna(data[\"Engine HP\"].mean(), inplace=True)\n",
            "<ipython-input-26-73a8ebcd5d32>:12: FutureWarning: A value is trying to be set on a copy of a DataFrame or Series through chained assignment using an inplace method.\n",
            "The behavior will change in pandas 3.0. This inplace method will never work because the intermediate object on which we are setting values always behaves as a copy.\n",
            "\n",
            "For example, when doing 'df[col].method(value, inplace=True)', try using 'df.method({col: value}, inplace=True)' or df[col] = df[col].method(value) instead, to perform the operation inplace on the original object.\n",
            "\n",
            "\n",
            "  data[\"Engine Cylinders\"].fillna(data[\"Engine Cylinders\"].mean(), inplace=True)\n"
          ]
        }
      ],
      "source": [
        "from sklearn.model_selection import train_test_split\n",
        "from sklearn.linear_model import LinearRegression\n",
        "from sklearn.metrics import r2_score\n",
        "from sklearn.metrics import root_mean_squared_error\n",
        "import pandas as pd\n",
        "\n",
        "\n",
        "def glupis_modelis(name_file):\n",
        "    data = pd.read_csv(name_file)\n",
        "\n",
        "    data[\"Engine HP\"].fillna(data[\"Engine HP\"].mean(), inplace=True)\n",
        "    data[\"Engine Cylinders\"].fillna(data[\"Engine Cylinders\"].mean(), inplace=True)\n",
        "\n",
        "    features = data[[\"Year\", \"Engine HP\", \"Engine Cylinders\", \"highway MPG\", \"city mpg\", \"Popularity\"]]\n",
        "    target = data[\"MSRP\"]\n",
        "\n",
        "    features_train, features_test, target_train, target_test = train_test_split(features, target, test_size=0.25, random_state=42)\n",
        "    model = LinearRegression()\n",
        "    model.fit(features_train, target_train)\n",
        "    result = model.predict(features_test)\n",
        "\n",
        "    r2 = r2_score(target_test, result)\n",
        "    rmse = root_mean_squared_error(target_test, result)\n",
        "\n",
        "    mean_price = target_train.mean()\n",
        "    dummy_predictions =  [mean_price] * len(target_test)\n",
        "    dummy_rmse = root_mean_squared_error(target_test, dummy_predictions)\n",
        "    print(f\"RMSE Модели равно {rmse}\\nRMSE 'Глупой' Модели равно {dummy_rmse}\")\n",
        "    print(f'Разница равна {dummy_rmse - rmse}')\n",
        "\n",
        "glupis_modelis('data.csv')"
      ]
    },
    {
      "cell_type": "code",
      "source": [
        "import pandas as pd\n",
        "\n",
        "data = pd.read_csv('/content/data.csv')\n",
        "print(data.isnull().sum())\n"
      ],
      "metadata": {
        "colab": {
          "base_uri": "https://localhost:8080/"
        },
        "id": "EDWTXKP0QqOK",
        "outputId": "1aeee17d-cc74-4ed9-a7f3-99bd2e9d1081"
      },
      "execution_count": null,
      "outputs": [
        {
          "output_type": "stream",
          "name": "stdout",
          "text": [
            "Make                    0\n",
            "Model                   0\n",
            "Year                    0\n",
            "Engine Fuel Type        3\n",
            "Engine HP              69\n",
            "Engine Cylinders       30\n",
            "Transmission Type       0\n",
            "Driven_Wheels           0\n",
            "Number of Doors         6\n",
            "Market Category      3742\n",
            "Vehicle Size            0\n",
            "Vehicle Style           0\n",
            "highway MPG             0\n",
            "city mpg                0\n",
            "Popularity              0\n",
            "MSRP                    0\n",
            "dtype: int64\n"
          ]
        }
      ]
    }
  ]
}