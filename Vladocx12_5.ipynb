{
  "nbformat": 4,
  "nbformat_minor": 0,
  "metadata": {
    "colab": {
      "provenance": [],
      "authorship_tag": "ABX9TyPOPvArBRoX2D9qv8q9nbbk",
      "include_colab_link": true
    },
    "kernelspec": {
      "name": "python3",
      "display_name": "Python 3"
    },
    "language_info": {
      "name": "python"
    }
  },
  "cells": [
    {
      "cell_type": "markdown",
      "metadata": {
        "id": "view-in-github",
        "colab_type": "text"
      },
      "source": [
        "<a href=\"https://colab.research.google.com/github/Vladocx/SPBSTU/blob/main/Vladocx12_5.ipynb\" target=\"_parent\"><img src=\"https://colab.research.google.com/assets/colab-badge.svg\" alt=\"Open In Colab\"/></a>"
      ]
    },
    {
      "cell_type": "code",
      "execution_count": 30,
      "metadata": {
        "colab": {
          "base_uri": "https://localhost:8080/"
        },
        "id": "gNapVxcyGe44",
        "outputId": "9539e157-50ec-49f1-90fe-9dff0b82a59a",
        "collapsed": true
      },
      "outputs": [
        {
          "output_type": "execute_result",
          "data": {
            "text/plain": [
              "(       no_of_adults  no_of_children  no_of_weekend_nights  no_of_week_nights  \\\n",
              " 0                 2               0                     1                  2   \n",
              " 1                 2               0                     2                  3   \n",
              " 2                 1               0                     2                  1   \n",
              " 3                 2               0                     0                  2   \n",
              " 4                 2               0                     1                  1   \n",
              " ...             ...             ...                   ...                ...   \n",
              " 36270             3               0                     2                  6   \n",
              " 36271             2               0                     1                  3   \n",
              " 36272             2               0                     2                  6   \n",
              " 36273             2               0                     0                  3   \n",
              " 36274             2               0                     1                  2   \n",
              " \n",
              "        type_of_meal_plan  required_car_parking_space  room_type_reserved  \\\n",
              " 0                      0                           0                   0   \n",
              " 1                      3                           0                   0   \n",
              " 2                      0                           0                   0   \n",
              " 3                      0                           0                   0   \n",
              " 4                      3                           0                   0   \n",
              " ...                  ...                         ...                 ...   \n",
              " 36270                  0                           0                   3   \n",
              " 36271                  0                           0                   0   \n",
              " 36272                  0                           0                   0   \n",
              " 36273                  3                           0                   0   \n",
              " 36274                  0                           0                   0   \n",
              " \n",
              "        lead_time  arrival_year  arrival_month  arrival_date  \\\n",
              " 0            224          2017             10             2   \n",
              " 1              5          2018             11             6   \n",
              " 2              1          2018              2            28   \n",
              " 3            211          2018              5            20   \n",
              " 4             48          2018              4            11   \n",
              " ...          ...           ...            ...           ...   \n",
              " 36270         85          2018              8             3   \n",
              " 36271        228          2018             10            17   \n",
              " 36272        148          2018              7             1   \n",
              " 36273         63          2018              4            21   \n",
              " 36274        207          2018             12            30   \n",
              " \n",
              "        market_segment_type  repeated_guest  no_of_previous_cancellations  \\\n",
              " 0                        3               0                             0   \n",
              " 1                        4               0                             0   \n",
              " 2                        4               0                             0   \n",
              " 3                        4               0                             0   \n",
              " 4                        4               0                             0   \n",
              " ...                    ...             ...                           ...   \n",
              " 36270                    4               0                             0   \n",
              " 36271                    4               0                             0   \n",
              " 36272                    4               0                             0   \n",
              " 36273                    4               0                             0   \n",
              " 36274                    3               0                             0   \n",
              " \n",
              "        no_of_previous_bookings_not_canceled  avg_price_per_room  \\\n",
              " 0                                         0               65.00   \n",
              " 1                                         0              106.68   \n",
              " 2                                         0               60.00   \n",
              " 3                                         0              100.00   \n",
              " 4                                         0               94.50   \n",
              " ...                                     ...                 ...   \n",
              " 36270                                     0              167.80   \n",
              " 36271                                     0               90.95   \n",
              " 36272                                     0               98.39   \n",
              " 36273                                     0               94.50   \n",
              " 36274                                     0              161.67   \n",
              " \n",
              "        no_of_special_requests  \n",
              " 0                           0  \n",
              " 1                           1  \n",
              " 2                           0  \n",
              " 3                           0  \n",
              " 4                           0  \n",
              " ...                       ...  \n",
              " 36270                       1  \n",
              " 36271                       2  \n",
              " 36272                       2  \n",
              " 36273                       0  \n",
              " 36274                       0  \n",
              " \n",
              " [36275 rows x 17 columns],\n",
              " 0        1\n",
              " 1        1\n",
              " 2        0\n",
              " 3        0\n",
              " 4        0\n",
              "         ..\n",
              " 36270    1\n",
              " 36271    0\n",
              " 36272    1\n",
              " 36273    0\n",
              " 36274    1\n",
              " Name: booking_status, Length: 36275, dtype: int64)"
            ]
          },
          "metadata": {},
          "execution_count": 30
        }
      ],
      "source": [
        "from sklearn.preprocessing import LabelEncoder\n",
        "import pandas as pd\n",
        "\n",
        "def table_preprocessing(n):\n",
        "    df = pd.read_csv(n)\n",
        "    df = df.drop(columns=['Booking_ID'])\n",
        "    labelencoder = LabelEncoder()\n",
        "\n",
        "    df['type_of_meal_plan'] = labelencoder.fit_transform(df['type_of_meal_plan'])\n",
        "    df['room_type_reserved'] = labelencoder.fit_transform(df['room_type_reserved'])\n",
        "    df['market_segment_type'] = labelencoder.fit_transform(df['market_segment_type'])\n",
        "    df['booking_status'] = labelencoder.fit_transform(df['booking_status'])\n",
        "\n",
        "    x = df.drop(columns=['booking_status'])\n",
        "    y = df['booking_status']\n",
        "\n",
        "    return x, y\n",
        "\n",
        "table_preprocessing(\"hotel_reservations.csv\")"
      ]
    },
    {
      "cell_type": "code",
      "source": [
        "from sklearn.model_selection import train_test_split\n",
        "from sklearn.svm import SVC\n",
        "from sklearn.tree import DecisionTreeClassifier\n",
        "from sklearn.linear_model import LogisticRegression\n",
        "from sklearn.metrics import recall_score\n",
        "\n",
        "x, y = table_preprocessing(\"hotel_reservations.csv\")\n",
        "def hotel_booking_analyze(x, y):\n",
        "    x_train, x_test, y_train, y_test = train_test_split(x, y, test_size=0.25, random_state=42)\n",
        "\n",
        "    svc = SVC()\n",
        "    svc.fit(x_train, y_train)\n",
        "    y_svc_pred = svc.predict(x_test)\n",
        "\n",
        "    clf_tree = DecisionTreeClassifier()\n",
        "    clf_tree.fit(x_train, y_train)\n",
        "    y_tree_pred = clf_tree.predict(x_test)\n",
        "\n",
        "    lreg = LogisticRegression()\n",
        "    lreg.fit(x_train, y_train)\n",
        "    y_lreg_pred = lreg.predict(x_test)\n",
        "\n",
        "    a1 = recall_score(y_test, y_svc_pred)\n",
        "    a2 = recall_score(y_test, y_tree_pred)\n",
        "    a3 = recall_score(y_test, y_lreg_pred)\n",
        "\n",
        "    return f\"SVC: {a1}. DecisionTreeClassifier: {a2}. LogisticRegression: {a3}.\"\n",
        "\n",
        "hotel_booking_analyze(x, y)"
      ],
      "metadata": {
        "colab": {
          "base_uri": "https://localhost:8080/",
          "height": 222
        },
        "collapsed": true,
        "id": "NSRxExfhVCk-",
        "outputId": "ca2f7c2c-f7b0-4d15-88bb-8812d3a6dbb7"
      },
      "execution_count": 32,
      "outputs": [
        {
          "output_type": "stream",
          "name": "stderr",
          "text": [
            "/usr/local/lib/python3.11/dist-packages/sklearn/linear_model/_logistic.py:465: ConvergenceWarning: lbfgs failed to converge (status=1):\n",
            "STOP: TOTAL NO. of ITERATIONS REACHED LIMIT.\n",
            "\n",
            "Increase the number of iterations (max_iter) or scale the data as shown in:\n",
            "    https://scikit-learn.org/stable/modules/preprocessing.html\n",
            "Please also refer to the documentation for alternative solver options:\n",
            "    https://scikit-learn.org/stable/modules/linear_model.html#logistic-regression\n",
            "  n_iter_i = _check_optimize_result(\n"
          ]
        },
        {
          "output_type": "execute_result",
          "data": {
            "text/plain": [
              "'SVC: 0.9374482872745326. DecisionTreeClassifier: 0.896243587622042. LogisticRegression: 0.9031937779248718.'"
            ],
            "application/vnd.google.colaboratory.intrinsic+json": {
              "type": "string"
            }
          },
          "metadata": {},
          "execution_count": 32
        }
      ]
    }
  ]
}