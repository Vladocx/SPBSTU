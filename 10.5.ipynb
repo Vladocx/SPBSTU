{
  "nbformat": 4,
  "nbformat_minor": 0,
  "metadata": {
    "colab": {
      "provenance": [],
      "authorship_tag": "ABX9TyMwoBf5ygq2819USUEfSdqb",
      "include_colab_link": true
    },
    "kernelspec": {
      "name": "python3",
      "display_name": "Python 3"
    },
    "language_info": {
      "name": "python"
    }
  },
  "cells": [
    {
      "cell_type": "markdown",
      "metadata": {
        "id": "view-in-github",
        "colab_type": "text"
      },
      "source": [
        "<a href=\"https://colab.research.google.com/github/Vladocx/SPBSTU/blob/main/10.5.ipynb\" target=\"_parent\"><img src=\"https://colab.research.google.com/assets/colab-badge.svg\" alt=\"Open In Colab\"/></a>"
      ]
    },
    {
      "cell_type": "code",
      "source": [
        "import pandas as pd\n",
        "import numpy as np\n",
        "from scipy import stats\n",
        "\n",
        "def website_analyse(fn):\n",
        "    df = pd.read_csv(fn)\n",
        "\n",
        "    mea1 = np.mean(df['Просмотренные страницы'])\n",
        "\n",
        "    std2 = np.std(df['Время на сайте (сек)'])\n",
        "\n",
        "    mea3 = np.mean(df['Время на сайте (сек)'])\n",
        "    cv3 = std2 / mea3 * 100\n",
        "    if cv3 > 0.25:\n",
        "        q3 = 'Высокая вариабельность'\n",
        "    elif cv3 < 0.1:\n",
        "        q3 = 'Слабая вариабельность'\n",
        "    else:\n",
        "        q3 = 'Умеренная вариабельность'\n",
        "\n",
        "    mbp = df[df['Тип устройства'] == 'Мобильное']['Просмотренные страницы']\n",
        "    dsp = df[df['Тип устройства'] == 'Десктоп']['Просмотренные страницы']\n",
        "    stat, p_value = stats.ttest_ind(mbp, dsp)\n",
        "    if p_value < 0.05:\n",
        "        q4 = 'Нет статистически значимой разницы'\n",
        "    else:\n",
        "        q4 = 'Есть статистически значимая разница в количестве страниц'\n",
        "\n",
        "\n",
        "    print(f'1) Среднее количество просмотренных таблиц: {mea1}\\n'\n",
        "    f'2) Стандартное отклонение: {std2}\\n'\n",
        "    f'3) {q3}: {cv3}\\n'\n",
        "    f'4) {q4}: {p_value}')\n",
        "\n",
        "website_analyse('website_visits_december_2024.csv')\n"
      ],
      "metadata": {
        "colab": {
          "base_uri": "https://localhost:8080/"
        },
        "id": "CM7OOfbQ7M1K",
        "outputId": "9aa6769d-a41c-4137-94b8-8d34b7107db2"
      },
      "execution_count": 33,
      "outputs": [
        {
          "output_type": "stream",
          "name": "stdout",
          "text": [
            "1) Среднее количество просмотренных таблиц: 17.486992715920916\n",
            "2) Стандартное отклонение: 1442.423060601691\n",
            "3) Высокая вариабельность: 69.22523663378661\n",
            "4) Нет статистически значимой разницы: 0.00013741248854821084\n"
          ]
        }
      ]
    }
  ]
}